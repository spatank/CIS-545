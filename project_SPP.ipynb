{
  "nbformat": 4,
  "nbformat_minor": 0,
  "metadata": {
    "colab": {
      "name": "project_SPP.ipynb",
      "provenance": [],
      "authorship_tag": "ABX9TyOhJoEmQ3ZSeJloAPunu6Nb",
      "include_colab_link": true
    },
    "kernelspec": {
      "name": "python3",
      "display_name": "Python 3"
    }
  },
  "cells": [
    {
      "cell_type": "markdown",
      "metadata": {
        "id": "view-in-github",
        "colab_type": "text"
      },
      "source": [
        "<a href=\"https://colab.research.google.com/github/spatank/CIS-545/blob/master/project_SPP.ipynb\" target=\"_parent\"><img src=\"https://colab.research.google.com/assets/colab-badge.svg\" alt=\"Open In Colab\"/></a>"
      ]
    },
    {
      "cell_type": "code",
      "metadata": {
        "colab": {
          "base_uri": "https://localhost:8080/"
        },
        "id": "kp04J7bvPkHT",
        "outputId": "0d1aa389-30fe-4827-d339-2c35f93594cb"
      },
      "source": [
        "import os\n",
        "from google.colab import drive\n",
        "\n",
        "# mount google drive\n",
        "drive.mount('/content/gdrive')"
      ],
      "execution_count": 1,
      "outputs": [
        {
          "output_type": "stream",
          "text": [
            "Drive already mounted at /content/gdrive; to attempt to forcibly remount, call drive.mount(\"/content/gdrive\", force_remount=True).\n"
          ],
          "name": "stdout"
        }
      ]
    },
    {
      "cell_type": "code",
      "metadata": {
        "colab": {
          "base_uri": "https://localhost:8080/"
        },
        "id": "gWlqVJcHQ2tS",
        "outputId": "32cfdb65-f7cd-4da8-d69b-fab46a8b5707"
      },
      "source": [
        "os.chdir('gdrive/MyDrive/CIS545_2020/Project')\n",
        "!ls"
      ],
      "execution_count": 2,
      "outputs": [
        {
          "output_type": "stream",
          "text": [
            "adj.mat  AED_matrices.npy  AED_matrices.npz  project_SPP.ipynb\n"
          ],
          "name": "stdout"
        }
      ]
    },
    {
      "cell_type": "code",
      "metadata": {
        "id": "InkMc30YRH3r"
      },
      "source": [
        "import numpy as np\n",
        "from matplotlib import pyplot as plt\n",
        "from scipy.io import savemat\n",
        "import networkx as nx"
      ],
      "execution_count": 3,
      "outputs": []
    },
    {
      "cell_type": "code",
      "metadata": {
        "id": "NYhqA9KIRxg3",
        "colab": {
          "base_uri": "https://localhost:8080/"
        },
        "outputId": "2b4ed1ee-ded4-42ce-dffb-4b506728b989"
      },
      "source": [
        "vars = np.load('AED_matrices.npz', allow_pickle = True)\n",
        "for item in vars.files:\n",
        "  print(item)"
      ],
      "execution_count": 4,
      "outputs": [
        {
          "output_type": "stream",
          "text": [
            "arr_0\n",
            "arr_1\n",
            "arr_2\n"
          ],
          "name": "stdout"
        }
      ]
    },
    {
      "cell_type": "code",
      "metadata": {
        "id": "_5TWPTMzpxLc"
      },
      "source": [
        "total_adj = vars['arr_0']\n",
        "time_var_adj = vars['arr_1']\n",
        "med_names = vars['arr_2']"
      ],
      "execution_count": 5,
      "outputs": []
    },
    {
      "cell_type": "code",
      "metadata": {
        "id": "bjAU3Zfg_GNx"
      },
      "source": [
        "def transpose(matrix):\n",
        "    num_lists_in_transpose = len(matrix[0])\n",
        "    transpose_matrix = [] # initialize empty transpose matrix\n",
        "    for i in range(num_lists_in_transpose): \n",
        "        list_for_transpose = [] # begin building each transpose list\n",
        "        for original_list in matrix: \n",
        "            # index the element from the non-tranpose list and place it \n",
        "            # in the tranposed list corresponding to the index\n",
        "            list_for_transpose.append(original_list[i])\n",
        "        transpose_matrix.append(list_for_transpose)\n",
        "    return transpose_matrix"
      ],
      "execution_count": 6,
      "outputs": []
    },
    {
      "cell_type": "code",
      "metadata": {
        "id": "GGgG8l8L4Yg9"
      },
      "source": [
        "# num_age_groups = time_var_adj.shape[2] # years of longitudinal data\n",
        "num_age_groups = 25 # i.e., up to age num_age_groups - 1\n",
        "upper_tri_indices = np.triu_indices(20, k = 1)\n",
        "edges_across_time = []\n",
        "for idx in range(1, num_age_groups):\n",
        "  curr_adj_mat = time_var_adj[:, :, idx]\n",
        "  if np.sum(curr_adj_mat) != 0:\n",
        "    curr_adj_mat = curr_adj_mat/np.sum(curr_adj_mat) # normalize\n",
        "  edges_across_time.append(curr_adj_mat[upper_tri_indices])\n",
        "edges_across_time = transpose(edges_across_time)"
      ],
      "execution_count": 7,
      "outputs": []
    },
    {
      "cell_type": "code",
      "metadata": {
        "id": "Z_0TZE-wGsSS"
      },
      "source": [
        "all_variances = [np.nanvar(lst) for lst in edges_across_time]\n",
        "ranked = np.argsort(all_variances)\n",
        "high_variance_edge_IDs = ranked[::-1][:len(ranked)]\n",
        "\n",
        "row_indices = upper_tri_indices[0]\n",
        "col_indices = upper_tri_indices[1]\n",
        "all_edges = []\n",
        "for idx in range(len(row_indices)):\n",
        "  all_edges.append(tuple([med_names[row_indices[idx]], med_names[col_indices[idx]]]))\n",
        "\n",
        "high_variance_edges = []\n",
        "for edge_ID in high_variance_edge_IDs:\n",
        "  high_variance_edges.append([edge_ID, all_edges[edge_ID], all_variances[edge_ID]])"
      ],
      "execution_count": 8,
      "outputs": []
    },
    {
      "cell_type": "code",
      "metadata": {
        "colab": {
          "base_uri": "https://localhost:8080/"
        },
        "id": "3aLgLhADH3FX",
        "outputId": "9abc0455-e156-4dd0-cac1-a8baf61aba54"
      },
      "source": [
        "high_variance_edges"
      ],
      "execution_count": 23,
      "outputs": [
        {
          "output_type": "execute_result",
          "data": {
            "text/plain": [
              "[[2, ('LEV', 'PHB'), 0.00011628936924657349],\n",
              " [12, ('LEV', 'TPM'), 6.550237837304726e-05],\n",
              " [63, ('PHB', 'TPM'), 5.6813198701241136e-05],\n",
              " [1, ('LEV', 'LTG'), 5.554304748463777e-05],\n",
              " [0, ('LEV', 'OXC'), 3.6293287725316696e-05],\n",
              " [3, ('LEV', 'VPA'), 2.9844916913088486e-05],\n",
              " [78, ('VPA', 'TPM'), 2.5905683352538364e-05],\n",
              " [38, ('LTG', 'VPA'), 2.1305706442083122e-05],\n",
              " [169, ('TPM', 'VGB'), 2.0801889957231464e-05],\n",
              " [47, ('LTG', 'TPM'), 1.4012259131008937e-05],\n",
              " [20, ('OXC', 'PHB'), 1.104887250480918e-05],\n",
              " [43, ('LTG', 'ZNS'), 9.688988117384666e-06],\n",
              " [58, ('PHB', 'FOS'), 9.652536277311175e-06],\n",
              " [57, ('PHB', 'PHT'), 8.160721618285564e-06],\n",
              " [13, ('LEV', 'VGB'), 7.853046738491718e-06],\n",
              " [19, ('OXC', 'LTG'), 7.726746039504257e-06],\n",
              " [10, ('LEV', 'LCM'), 7.623468897074727e-06],\n",
              " [6, ('LEV', 'PHT'), 7.503177134722007e-06],\n",
              " [8, ('LEV', 'ZNS'), 6.575553857238382e-06],\n",
              " [74, ('VPA', 'ZNS'), 6.208877025556563e-06],\n",
              " [7, ('LEV', 'FOS'), 6.108976693042862e-06],\n",
              " [76, ('VPA', 'LCM'), 5.911755220886111e-06],\n",
              " [70, ('VPA', 'ETX'), 5.859378836159515e-06],\n",
              " [30, ('OXC', 'TPM'), 5.701012363327377e-06],\n",
              " [39, ('LTG', 'ETX'), 4.778397760727564e-06],\n",
              " [21, ('OXC', 'VPA'), 4.478965819134282e-06],\n",
              " [45, ('LTG', 'LCM'), 4.194235774573019e-06],\n",
              " [14, ('LEV', 'GPT'), 3.7366763872562797e-06],\n",
              " [26, ('OXC', 'ZNS'), 3.455164155414261e-06],\n",
              " [117, ('PHT', 'TPM'), 2.7684170135762423e-06],\n",
              " [64, ('PHB', 'VGB'), 2.7191278679708894e-06],\n",
              " [54, ('PHB', 'VPA'), 2.6488180220310487e-06],\n",
              " [112, ('PHT', 'FOS'), 2.355897845601909e-06],\n",
              " [79, ('VPA', 'VGB'), 2.3429567871336905e-06],\n",
              " [136, ('ZNS', 'LCM'), 2.287142070171441e-06],\n",
              " [49, ('LTG', 'GPT'), 2.2158268689629414e-06],\n",
              " [28, ('OXC', 'LCM'), 2.05259051389757e-06],\n",
              " [128, ('FOS', 'TPM'), 2.0226594402554338e-06],\n",
              " [51, ('LTG', 'FELB'), 1.9338014490595973e-06],\n",
              " [24, ('OXC', 'PHT'), 1.4789377830318523e-06],\n",
              " [65, ('PHB', 'GPT'), 1.2617916715302355e-06],\n",
              " [80, ('VPA', 'GPT'), 1.2027106758113106e-06],\n",
              " [126, ('FOS', 'LCM'), 1.1320359226115652e-06],\n",
              " [72, ('VPA', 'PHT'), 1.0052285828011312e-06],\n",
              " [42, ('LTG', 'FOS'), 9.945172890114994e-07],\n",
              " [4, ('LEV', 'ETX'), 8.627903168373659e-07],\n",
              " [138, ('ZNS', 'TPM'), 8.571617549726643e-07],\n",
              " [155, ('LCM', 'TPM'), 8.287615978862593e-07],\n",
              " [31, ('OXC', 'VGB'), 8.035838002669048e-07],\n",
              " [103, ('BRI', 'LCM'), 7.927682202381922e-07],\n",
              " [15, ('LEV', 'CBZ'), 7.779305228668342e-07],\n",
              " [73, ('VPA', 'FOS'), 7.329903319582981e-07],\n",
              " [25, ('OXC', 'FOS'), 7.121250081459538e-07],\n",
              " [170, ('TPM', 'GPT'), 6.991037994881496e-07],\n",
              " [71, ('VPA', 'BRI'), 6.911460144317059e-07],\n",
              " [44, ('LTG', 'ACZ'), 6.784325934231062e-07],\n",
              " [115, ('PHT', 'LCM'), 5.833856167994473e-07],\n",
              " [48, ('LTG', 'VGB'), 5.689434596089875e-07],\n",
              " [59, ('PHB', 'ZNS'), 5.489011135297704e-07],\n",
              " [82, ('VPA', 'FELB'), 5.087735003394771e-07],\n",
              " [171, ('TPM', 'CBZ'), 4.939531255705689e-07],\n",
              " [61, ('PHB', 'LCM'), 4.913310787706816e-07],\n",
              " [40, ('LTG', 'BRI'), 4.835438238456167e-07],\n",
              " [33, ('OXC', 'CBZ'), 4.689236435317075e-07],\n",
              " [140, ('ZNS', 'GPT'), 4.607259313427685e-07],\n",
              " [132, ('FOS', 'FELB'), 4.6026328189682574e-07],\n",
              " [174, ('TPM', 'PRM'), 4.443580373589307e-07],\n",
              " [41, ('LTG', 'PHT'), 4.2956696337075346e-07],\n",
              " [81, ('VPA', 'CBZ'), 4.278176144801322e-07],\n",
              " [139, ('ZNS', 'VGB'), 4.033919783997521e-07],\n",
              " [32, ('OXC', 'GPT'), 4.0168720150328e-07],\n",
              " [37, ('LTG', 'PHB'), 3.822165456803061e-07],\n",
              " [113, ('PHT', 'ZNS'), 3.7802832214203377e-07],\n",
              " [145, ('ACZ', 'LCM'), 3.3909329212947325e-07],\n",
              " [50, ('LTG', 'CBZ'), 3.2928150174323164e-07],\n",
              " [5, ('LEV', 'BRI'), 3.290854704112032e-07],\n",
              " [118, ('PHT', 'VGB'), 3.283667102215029e-07],\n",
              " [157, ('LCM', 'GPT'), 3.2789812638035104e-07],\n",
              " [16, ('LEV', 'FELB'), 3.259181532568208e-07],\n",
              " [149, ('ACZ', 'GPT'), 2.920481887519373e-07],\n",
              " [101, ('BRI', 'ZNS'), 2.8620251705306734e-07],\n",
              " [77, ('VPA', 'PER'), 2.72781427229854e-07],\n",
              " [124, ('FOS', 'ZNS'), 2.682287685321214e-07],\n",
              " [75, ('VPA', 'ACZ'), 2.5692351223797214e-07],\n",
              " [66, ('PHB', 'CBZ'), 2.476006437323444e-07],\n",
              " [147, ('ACZ', 'TPM'), 2.4623576274758624e-07],\n",
              " [130, ('FOS', 'GPT'), 2.427957490631317e-07],\n",
              " [129, ('FOS', 'VGB'), 2.4041532940755083e-07],\n",
              " [88, ('ETX', 'ZNS'), 2.3921990612189135e-07],\n",
              " [137, ('ZNS', 'PER'), 2.3757478973495245e-07],\n",
              " [11, ('LEV', 'PER'), 2.2575193863248361e-07],\n",
              " [156, ('LCM', 'VGB'), 2.247005562844095e-07],\n",
              " [23, ('OXC', 'BRI'), 2.2162692840685934e-07],\n",
              " [159, ('LCM', 'FELB'), 2.0687743151340417e-07],\n",
              " [46, ('LTG', 'PER'), 2.034590009212616e-07],\n",
              " [9, ('LEV', 'ACZ'), 2.0298360178128212e-07],\n",
              " [104, ('BRI', 'PER'), 1.9779812995148275e-07],\n",
              " [92, ('ETX', 'TPM'), 1.9588376516295535e-07],\n",
              " [153, ('ACZ', 'PRM'), 1.867719788171966e-07],\n",
              " [141, ('ZNS', 'CBZ'), 1.8376486179054536e-07],\n",
              " [161, ('LCM', 'PRM'), 1.8320354232516984e-07],\n",
              " [172, ('TPM', 'FELB'), 1.7375877550523164e-07],\n",
              " [166, ('PER', 'FELB'), 1.7340648402380554e-07],\n",
              " [154, ('LCM', 'PER'), 1.7024886380616084e-07],\n",
              " [100, ('BRI', 'FOS'), 1.5797716164327397e-07],\n",
              " [67, ('PHB', 'FELB'), 1.5522134843440556e-07],\n",
              " [135, ('ZNS', 'ACZ'), 1.5400275579479872e-07],\n",
              " [131, ('FOS', 'CBZ'), 1.2852488943989427e-07],\n",
              " [99, ('BRI', 'PHT'), 1.2389497798707442e-07],\n",
              " [56, ('PHB', 'BRI'), 1.207602714523605e-07],\n",
              " [27, ('OXC', 'ACZ'), 1.1957052468009323e-07],\n",
              " [119, ('PHT', 'GPT'), 1.1533776248324373e-07],\n",
              " [180, ('GPT', 'CBZ'), 1.1319417087462795e-07],\n",
              " [142, ('ZNS', 'FELB'), 1.1274469292512849e-07],\n",
              " [69, ('PHB', 'PRM'), 9.880214380062771e-08],\n",
              " [186, ('CBZ', 'PRM'), 9.65158365181982e-08],\n",
              " [83, ('VPA', 'MSM'), 8.81308726388015e-08],\n",
              " [163, ('PER', 'VGB'), 7.434103410855232e-08],\n",
              " [105, ('BRI', 'TPM'), 7.344648343045717e-08],\n",
              " [18, ('LEV', 'PRM'), 6.908349285634494e-08],\n",
              " [127, ('FOS', 'PER'), 6.63227545029838e-08],\n",
              " [162, ('PER', 'TPM'), 6.346834511907739e-08],\n",
              " [109, ('BRI', 'FELB'), 6.195331460011112e-08],\n",
              " [60, ('PHB', 'ACZ'), 5.6678389691080664e-08],\n",
              " [120, ('PHT', 'CBZ'), 5.480602981074387e-08],\n",
              " [107, ('BRI', 'GPT'), 5.43693656282192e-08],\n",
              " [125, ('FOS', 'ACZ'), 5.360815412907489e-08],\n",
              " [34, ('OXC', 'FELB'), 4.9577304153850755e-08],\n",
              " [177, ('VGB', 'FELB'), 4.099193589903535e-08],\n",
              " [116, ('PHT', 'PER'), 3.973187995943032e-08],\n",
              " [121, ('PHT', 'FELB'), 3.7336058292684634e-08],\n",
              " [62, ('PHB', 'PER'), 3.626788006344564e-08],\n",
              " [158, ('LCM', 'CBZ'), 3.392469408610723e-08],\n",
              " [110, ('BRI', 'MSM'), 3.0537467284281897e-08],\n",
              " [150, ('ACZ', 'CBZ'), 2.897137841445077e-08],\n",
              " [94, ('ETX', 'GPT'), 2.7454672257002718e-08],\n",
              " [84, ('VPA', 'PRM'), 2.677503371036265e-08],\n",
              " [151, ('ACZ', 'FELB'), 2.6310516317371643e-08],\n",
              " [181, ('GPT', 'FELB'), 2.5758543914024656e-08],\n",
              " [106, ('BRI', 'VGB'), 2.1616374308899393e-08],\n",
              " [114, ('PHT', 'ACZ'), 2.1021483630065718e-08],\n",
              " [173, ('TPM', 'MSM'), 1.869329184498631e-08],\n",
              " [17, ('LEV', 'MSM'), 1.7577265806760558e-08],\n",
              " [29, ('OXC', 'PER'), 1.7380980925940064e-08],\n",
              " [175, ('VGB', 'GPT'), 1.6209282515443276e-08],\n",
              " [90, ('ETX', 'LCM'), 1.6209282515443276e-08],\n",
              " [85, ('ETX', 'BRI'), 1.5993383480109222e-08],\n",
              " [148, ('ACZ', 'VGB'), 1.561738889947069e-08],\n",
              " [167, ('PER', 'MSM'), 1.5286327490657063e-08],\n",
              " [89, ('ETX', 'ACZ'), 1.4638765747796093e-08],\n",
              " [146, ('ACZ', 'PER'), 1.4206737922856896e-08],\n",
              " [91, ('ETX', 'PER'), 1.3701199992771339e-08],\n",
              " [108, ('BRI', 'CBZ'), 1.2949599276789874e-08],\n",
              " [176, ('VGB', 'CBZ'), 1.2788077558717295e-08],\n",
              " [22, ('OXC', 'ETX'), 1.1375453676051702e-08],\n",
              " [123, ('PHT', 'PRM'), 1.0332358859334724e-08],\n",
              " [143, ('ZNS', 'MSM'), 9.672396253531878e-09],\n",
              " [52, ('LTG', 'MSM'), 8.023223589715952e-09],\n",
              " [93, ('ETX', 'VGB'), 7.797156382762523e-09],\n",
              " [55, ('PHB', 'ETX'), 7.720972628748204e-09],\n",
              " [87, ('ETX', 'FOS'), 7.519967590784488e-09],\n",
              " [152, ('ACZ', 'MSM'), 7.485775632767775e-09],\n",
              " [187, ('FELB', 'MSM'), 7.464038715471942e-09],\n",
              " [164, ('PER', 'GPT'), 6.818970589971042e-09],\n",
              " [160, ('LCM', 'MSM'), 4.360813416959993e-09],\n",
              " [68, ('PHB', 'MSM'), 4.360813416959993e-09],\n",
              " [133, ('FOS', 'MSM'), 4.360813416959993e-09],\n",
              " [122, ('PHT', 'MSM'), 4.360813416959993e-09],\n",
              " [184, ('CBZ', 'FELB'), 4.360813416959993e-09],\n",
              " [86, ('ETX', 'PHT'), 4.068033895079149e-09],\n",
              " [97, ('ETX', 'MSM'), 4.026799734651966e-09],\n",
              " [102, ('BRI', 'ACZ'), 4.026799734651966e-09],\n",
              " [96, ('ETX', 'FELB'), 3.12255669442095e-09],\n",
              " [178, ('VGB', 'MSM'), 0.0],\n",
              " [182, ('GPT', 'MSM'), 0.0],\n",
              " [179, ('VGB', 'PRM'), 0.0],\n",
              " [185, ('CBZ', 'MSM'), 0.0],\n",
              " [183, ('GPT', 'PRM'), 0.0],\n",
              " [53, ('LTG', 'PRM'), 0.0],\n",
              " [168, ('PER', 'PRM'), 0.0],\n",
              " [165, ('PER', 'CBZ'), 0.0],\n",
              " [144, ('ZNS', 'PRM'), 0.0],\n",
              " [134, ('FOS', 'PRM'), 0.0],\n",
              " [111, ('BRI', 'PRM'), 0.0],\n",
              " [35, ('OXC', 'MSM'), 0.0],\n",
              " [36, ('OXC', 'PRM'), 0.0],\n",
              " [98, ('ETX', 'PRM'), 0.0],\n",
              " [95, ('ETX', 'CBZ'), 0.0],\n",
              " [188, ('FELB', 'PRM'), 0.0],\n",
              " [189, ('MSM', 'PRM'), 0.0]]"
            ]
          },
          "metadata": {
            "tags": []
          },
          "execution_count": 23
        }
      ]
    },
    {
      "cell_type": "code",
      "metadata": {
        "id": "9Q3hv7tCNUkW",
        "colab": {
          "base_uri": "https://localhost:8080/",
          "height": 333
        },
        "outputId": "9e677432-405c-4c92-9cc0-beed9163630a"
      },
      "source": [
        "edge = 19\n",
        "fig = plt.figure()\n",
        "plt.scatter(list(range(1, len(edges_across_time[edge]) + 1)), edges_across_time[edge])\n",
        "fig.suptitle(str(high_variance_edges[edge][1]), fontsize = 20)\n",
        "plt.xlabel('Age', fontsize = 18)\n",
        "plt.ylabel('Normalized Co-prescription', fontsize = 16)"
      ],
      "execution_count": 29,
      "outputs": [
        {
          "output_type": "execute_result",
          "data": {
            "text/plain": [
              "Text(0, 0.5, 'Normalized Co-prescription')"
            ]
          },
          "metadata": {
            "tags": []
          },
          "execution_count": 29
        },
        {
          "output_type": "display_data",
          "data": {
            "image/png": "[encoded data removed]",
            "text/plain": [
              "<Figure size 432x288 with 1 Axes>"
            ]
          },
          "metadata": {
            "tags": [],
            "needs_background": "light"
          }
        }
      ]
    },
    {
      "cell_type": "code",
      "metadata": {
        "colab": {
          "base_uri": "https://localhost:8080/",
          "height": 333
        },
        "id": "EBkHzhOwRJDe",
        "outputId": "e6fdcced-1b60-42e7-cc2e-15ca929bb0b1"
      },
      "source": [
        "edge = 1\n",
        "fig = plt.figure()\n",
        "plt.scatter(list(range(1, len(edges_across_time[edge]) + 1)), edges_across_time[edge])\n",
        "fig.suptitle(str(high_variance_edges[edge][1]), fontsize = 20)\n",
        "plt.xlabel('Age', fontsize = 18)\n",
        "plt.ylabel('Normalized Co-prescription', fontsize = 16)"
      ],
      "execution_count": 11,
      "outputs": [
        {
          "output_type": "execute_result",
          "data": {
            "text/plain": [
              "Text(0, 0.5, 'Normalized Co-prescription')"
            ]
          },
          "metadata": {
            "tags": []
          },
          "execution_count": 11
        },
        {
          "output_type": "display_data",
          "data": {
            "image/png": "[encoded data removed]",
            "text/plain": [
              "<Figure size 432x288 with 1 Axes>"
            ]
          },
          "metadata": {
            "tags": [],
            "needs_background": "light"
          }
        }
      ]
    },
    {
      "cell_type": "code",
      "metadata": {
        "colab": {
          "base_uri": "https://localhost:8080/",
          "height": 333
        },
        "id": "sHmD6OBZRKwW",
        "outputId": "0efbfa59-0d9b-42ce-95f3-4f8100240e23"
      },
      "source": [
        "edge = 2\n",
        "fig = plt.figure()\n",
        "plt.scatter(list(range(1, len(edges_across_time[edge]) + 1)), edges_across_time[edge])\n",
        "fig.suptitle(str(high_variance_edges[edge][1]), fontsize = 20)\n",
        "plt.xlabel('Age', fontsize = 18)\n",
        "plt.ylabel('Normalized Co-prescription', fontsize = 16)"
      ],
      "execution_count": 12,
      "outputs": [
        {
          "output_type": "execute_result",
          "data": {
            "text/plain": [
              "Text(0, 0.5, 'Normalized Co-prescription')"
            ]
          },
          "metadata": {
            "tags": []
          },
          "execution_count": 12
        },
        {
          "output_type": "display_data",
          "data": {
            "image/png": "[encoded data removed]",
            "text/plain": [
              "<Figure size 432x288 with 1 Axes>"
            ]
          },
          "metadata": {
            "tags": [],
            "needs_background": "light"
          }
        }
      ]
    }
  ]
}