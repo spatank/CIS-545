{
  "nbformat": 4,
  "nbformat_minor": 0,
  "metadata": {
    "colab": {
      "name": "project_SPP.ipynb",
      "provenance": [],
      "authorship_tag": "ABX9TyOgCz4A71N4B9MD0WErQkwC",
      "include_colab_link": true
    },
    "kernelspec": {
      "name": "python3",
      "display_name": "Python 3"
    }
  },
  "cells": [
    {
      "cell_type": "markdown",
      "metadata": {
        "id": "view-in-github",
        "colab_type": "text"
      },
      "source": [
        "<a href=\"https://colab.research.google.com/github/spatank/CIS-545/blob/master/project_SPP.ipynb\" target=\"_parent\"><img src=\"https://colab.research.google.com/assets/colab-badge.svg\" alt=\"Open In Colab\"/></a>"
      ]
    },
    {
      "cell_type": "code",
      "metadata": {
        "colab": {
          "base_uri": "https://localhost:8080/"
        },
        "id": "kp04J7bvPkHT",
        "outputId": "11e459ce-9b1c-4e50-a126-2a33c5118501"
      },
      "source": [
        "import os\n",
        "from google.colab import drive\n",
        "\n",
        "# mount google drive\n",
        "drive.mount('/content/gdrive')"
      ],
      "execution_count": 1,
      "outputs": [
        {
          "output_type": "stream",
          "text": [
            "Mounted at /content/gdrive\n"
          ],
          "name": "stdout"
        }
      ]
    },
    {
      "cell_type": "code",
      "metadata": {
        "colab": {
          "base_uri": "https://localhost:8080/"
        },
        "id": "gWlqVJcHQ2tS",
        "outputId": "42a6f98c-d96f-4036-c552-3dc198b1f5d2"
      },
      "source": [
        "os.chdir('gdrive/MyDrive/CIS545_2020/Project')\n",
        "!ls"
      ],
      "execution_count": 2,
      "outputs": [
        {
          "output_type": "stream",
          "text": [
            "adj.mat  AED_matrices.npy  AED_matrices.npz  project_SPP.ipynb\n"
          ],
          "name": "stdout"
        }
      ]
    },
    {
      "cell_type": "code",
      "metadata": {
        "id": "InkMc30YRH3r"
      },
      "source": [
        "import numpy as np\n",
        "from matplotlib import pyplot as plt\n",
        "from scipy.io import savemat\n",
        "import networkx as nx"
      ],
      "execution_count": 47,
      "outputs": []
    },
    {
      "cell_type": "code",
      "metadata": {
        "id": "NYhqA9KIRxg3",
        "colab": {
          "base_uri": "https://localhost:8080/"
        },
        "outputId": "2bafe070-4417-4a78-a2f9-4002deb390c7"
      },
      "source": [
        "vars = np.load('AED_matrices.npz', allow_pickle = True)\n",
        "for item in vars.files:\n",
        "  print(item)"
      ],
      "execution_count": 4,
      "outputs": [
        {
          "output_type": "stream",
          "text": [
            "arr_0\n",
            "arr_1\n",
            "arr_2\n"
          ],
          "name": "stdout"
        }
      ]
    },
    {
      "cell_type": "code",
      "metadata": {
        "id": "_5TWPTMzpxLc"
      },
      "source": [
        "total_adj = vars['arr_0']\n",
        "time_var_adj = vars['arr_1']\n",
        "med_names = vars['arr_2']"
      ],
      "execution_count": 5,
      "outputs": []
    },
    {
      "cell_type": "code",
      "metadata": {
        "id": "bjAU3Zfg_GNx"
      },
      "source": [
        "def transpose(matrix):\n",
        "    num_lists_in_transpose = len(matrix[0])\n",
        "    transpose_matrix = [] # initialize empty transpose matrix\n",
        "    for i in range(num_lists_in_transpose): \n",
        "        list_for_transpose = [] # begin building each transpose list\n",
        "        for original_list in matrix: \n",
        "            # index the element from the non-tranpose list and place it \n",
        "            # in the tranposed list corresponding to the index\n",
        "            list_for_transpose.append(original_list[i])\n",
        "        transpose_matrix.append(list_for_transpose)\n",
        "    return transpose_matrix"
      ],
      "execution_count": 38,
      "outputs": []
    },
    {
      "cell_type": "code",
      "metadata": {
        "id": "WoK4rQFhM5k-",
        "outputId": "cab7a369-fbf1-49a3-c388-cd095d31ad8b",
        "colab": {
          "base_uri": "https://localhost:8080/"
        }
      },
      "source": [
        "try:\n",
        "  curr_adj_mat = time_var_adj[:, :, 0]\n",
        "  curr_adj_mat = curr_adj_mat/np.sum(curr_adj_mat)\n",
        "  print('Ho')\n",
        "except:\n",
        "  pass"
      ],
      "execution_count": 127,
      "outputs": [
        {
          "output_type": "stream",
          "text": [
            "Ho\n"
          ],
          "name": "stdout"
        },
        {
          "output_type": "stream",
          "text": [
            "/usr/local/lib/python3.6/dist-packages/ipykernel_launcher.py:3: RuntimeWarning: invalid value encountered in true_divide\n",
            "  This is separate from the ipykernel package so we can avoid doing imports until\n"
          ],
          "name": "stderr"
        }
      ]
    },
    {
      "cell_type": "code",
      "metadata": {
        "id": "GGgG8l8L4Yg9"
      },
      "source": [
        "num_age_groups = time_var_adj.shape[2] # years of longitudinal data\n",
        "upper_tri_indices = np.triu_indices(20, k = 1)\n",
        "edges_across_time = []\n",
        "for idx in range(num_age_groups):\n",
        "  curr_adj_mat = time_var_adj[:, :, idx]\n",
        "  if np.sum(curr_adj_mat) != 0:\n",
        "    curr_adj_mat = curr_adj_mat/np.sum(curr_adj_mat) # normalize\n",
        "  edges_across_time.append(curr_adj_mat[upper_tri_indices])\n",
        "edges_across_time = transpose(edges_across_time)"
      ],
      "execution_count": 128,
      "outputs": []
    },
    {
      "cell_type": "code",
      "metadata": {
        "id": "Z_0TZE-wGsSS"
      },
      "source": [
        "all_variances = [np.nanvar(lst) for lst in edges_across_time]\n",
        "ranked = np.argsort(all_variances)\n",
        "high_variance_edge_IDs = ranked[::-1][:len(ranked)]\n",
        "\n",
        "row_indices = upper_tri_indices[0]\n",
        "col_indices = upper_tri_indices[1]\n",
        "all_edges = []\n",
        "for idx in range(len(row_indices)):\n",
        "  all_edges.append(tuple([med_names[row_indices[idx]], med_names[col_indices[idx]]]))\n",
        "\n",
        "high_variance_edges = []\n",
        "for edge_ID in high_variance_edge_IDs:\n",
        "  high_variance_edges.append([edge_ID, all_edges[edge_ID], all_variances[edge_ID]])"
      ],
      "execution_count": 131,
      "outputs": []
    },
    {
      "cell_type": "code",
      "metadata": {
        "colab": {
          "base_uri": "https://localhost:8080/"
        },
        "id": "3aLgLhADH3FX",
        "outputId": "d2c32faa-fbd2-4ea7-c870-0fd7ebb4ef02"
      },
      "source": [
        "high_variance_edges[:10]"
      ],
      "execution_count": 132,
      "outputs": [
        {
          "output_type": "execute_result",
          "data": {
            "text/plain": [
              "[[0, ('LEV', 'OXC'), 0.0022329912486952507],\n",
              " [78, ('VPA', 'TPM'), 0.0007093561923787698],\n",
              " [1, ('LEV', 'LTG'), 0.0004112928825035262],\n",
              " [2, ('LEV', 'PHB'), 0.0001242499482855136],\n",
              " [12, ('LEV', 'TPM'), 0.00011240867015522202],\n",
              " [3, ('LEV', 'VPA'), 9.390700955526457e-05],\n",
              " [59, ('PHB', 'ZNS'), 5.2976700528041834e-05],\n",
              " [14, ('LEV', 'GPT'), 5.231277558404785e-05],\n",
              " [38, ('LTG', 'VPA'), 4.936512442797508e-05],\n",
              " [63, ('PHB', 'TPM'), 4.627684194480148e-05]]"
            ]
          },
          "metadata": {
            "tags": []
          },
          "execution_count": 132
        }
      ]
    },
    {
      "cell_type": "code",
      "metadata": {
        "id": "9Q3hv7tCNUkW"
      },
      "source": [
        ""
      ],
      "execution_count": null,
      "outputs": []
    }
  ]
}