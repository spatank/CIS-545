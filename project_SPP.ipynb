{
  "nbformat": 4,
  "nbformat_minor": 0,
  "metadata": {
    "colab": {
      "name": "project_SPP.ipynb",
      "provenance": [],
      "authorship_tag": "ABX9TyPydwVqFLhySGm0ldiUjppe",
      "include_colab_link": true
    },
    "kernelspec": {
      "name": "python3",
      "display_name": "Python 3"
    }
  },
  "cells": [
    {
      "cell_type": "markdown",
      "metadata": {
        "id": "view-in-github",
        "colab_type": "text"
      },
      "source": [
        "<a href=\"https://colab.research.google.com/github/spatank/CIS-545/blob/master/project_SPP.ipynb\" target=\"_parent\"><img src=\"https://colab.research.google.com/assets/colab-badge.svg\" alt=\"Open In Colab\"/></a>"
      ]
    },
    {
      "cell_type": "code",
      "metadata": {
        "colab": {
          "base_uri": "https://localhost:8080/"
        },
        "id": "kp04J7bvPkHT",
        "outputId": "0d1aa389-30fe-4827-d339-2c35f93594cb"
      },
      "source": [
        "import os\n",
        "from google.colab import drive\n",
        "\n",
        "# mount google drive\n",
        "drive.mount('/content/gdrive')"
      ],
      "execution_count": 1,
      "outputs": [
        {
          "output_type": "stream",
          "text": [
            "Drive already mounted at /content/gdrive; to attempt to forcibly remount, call drive.mount(\"/content/gdrive\", force_remount=True).\n"
          ],
          "name": "stdout"
        }
      ]
    },
    {
      "cell_type": "code",
      "metadata": {
        "colab": {
          "base_uri": "https://localhost:8080/"
        },
        "id": "gWlqVJcHQ2tS",
        "outputId": "32cfdb65-f7cd-4da8-d69b-fab46a8b5707"
      },
      "source": [
        "os.chdir('gdrive/MyDrive/CIS545_2020/Project')\n",
        "!ls"
      ],
      "execution_count": 2,
      "outputs": [
        {
          "output_type": "stream",
          "text": [
            "adj.mat  AED_matrices.npy  AED_matrices.npz  project_SPP.ipynb\n"
          ],
          "name": "stdout"
        }
      ]
    },
    {
      "cell_type": "code",
      "metadata": {
        "id": "InkMc30YRH3r"
      },
      "source": [
        "import numpy as np\n",
        "from matplotlib import pyplot as plt\n",
        "from scipy.io import savemat\n",
        "import networkx as nx"
      ],
      "execution_count": 3,
      "outputs": []
    },
    {
      "cell_type": "code",
      "metadata": {
        "id": "NYhqA9KIRxg3",
        "colab": {
          "base_uri": "https://localhost:8080/"
        },
        "outputId": "2b4ed1ee-ded4-42ce-dffb-4b506728b989"
      },
      "source": [
        "vars = np.load('AED_matrices.npz', allow_pickle = True)\n",
        "for item in vars.files:\n",
        "  print(item)"
      ],
      "execution_count": 4,
      "outputs": [
        {
          "output_type": "stream",
          "text": [
            "arr_0\n",
            "arr_1\n",
            "arr_2\n"
          ],
          "name": "stdout"
        }
      ]
    },
    {
      "cell_type": "code",
      "metadata": {
        "id": "_5TWPTMzpxLc"
      },
      "source": [
        "total_adj = vars['arr_0']\n",
        "time_var_adj = vars['arr_1']\n",
        "med_names = vars['arr_2']"
      ],
      "execution_count": 5,
      "outputs": []
    },
    {
      "cell_type": "code",
      "metadata": {
        "id": "bjAU3Zfg_GNx"
      },
      "source": [
        "def transpose(matrix):\n",
        "    num_lists_in_transpose = len(matrix[0])\n",
        "    transpose_matrix = [] # initialize empty transpose matrix\n",
        "    for i in range(num_lists_in_transpose): \n",
        "        list_for_transpose = [] # begin building each transpose list\n",
        "        for original_list in matrix: \n",
        "            # index the element from the non-tranpose list and place it \n",
        "            # in the tranposed list corresponding to the index\n",
        "            list_for_transpose.append(original_list[i])\n",
        "        transpose_matrix.append(list_for_transpose)\n",
        "    return transpose_matrix"
      ],
      "execution_count": 6,
      "outputs": []
    },
    {
      "cell_type": "code",
      "metadata": {
        "id": "GGgG8l8L4Yg9"
      },
      "source": [
        "# num_age_groups = time_var_adj.shape[2] # years of longitudinal data\n",
        "num_age_groups = 25 # i.e., up to age num_age_groups - 1\n",
        "upper_tri_indices = np.triu_indices(20, k = 1)\n",
        "edges_across_time = []\n",
        "for idx in range(1, num_age_groups):\n",
        "  curr_adj_mat = time_var_adj[:, :, idx]\n",
        "  if np.sum(curr_adj_mat) != 0:\n",
        "    curr_adj_mat = curr_adj_mat/np.sum(curr_adj_mat) # normalize\n",
        "  edges_across_time.append(curr_adj_mat[upper_tri_indices])\n",
        "edges_across_time = transpose(edges_across_time)"
      ],
      "execution_count": 7,
      "outputs": []
    },
    {
      "cell_type": "code",
      "metadata": {
        "id": "Z_0TZE-wGsSS"
      },
      "source": [
        "all_variances = [np.nanvar(lst) for lst in edges_across_time]\n",
        "ranked = np.argsort(all_variances)\n",
        "high_variance_edge_IDs = ranked[::-1][:len(ranked)]\n",
        "\n",
        "row_indices = upper_tri_indices[0]\n",
        "col_indices = upper_tri_indices[1]\n",
        "all_edges = []\n",
        "for idx in range(len(row_indices)):\n",
        "  all_edges.append(tuple([med_names[row_indices[idx]], med_names[col_indices[idx]]]))\n",
        "\n",
        "high_variance_edges = []\n",
        "for edge_ID in high_variance_edge_IDs:\n",
        "  high_variance_edges.append([edge_ID, all_edges[edge_ID], all_variances[edge_ID]])"
      ],
      "execution_count": 8,
      "outputs": []
    },
    {
      "cell_type": "code",
      "metadata": {
        "colab": {
          "base_uri": "https://localhost:8080/"
        },
        "id": "3aLgLhADH3FX",
        "outputId": "bc38dbf8-24a8-4673-d88d-c8ffa2149a82"
      },
      "source": [
        "high_variance_edges[:10]"
      ],
      "execution_count": 9,
      "outputs": [
        {
          "output_type": "execute_result",
          "data": {
            "text/plain": [
              "[[2, ('LEV', 'PHB'), 0.00011628936924657349],\n",
              " [12, ('LEV', 'TPM'), 6.550237837304726e-05],\n",
              " [63, ('PHB', 'TPM'), 5.6813198701241136e-05],\n",
              " [1, ('LEV', 'LTG'), 5.554304748463777e-05],\n",
              " [0, ('LEV', 'OXC'), 3.6293287725316696e-05],\n",
              " [3, ('LEV', 'VPA'), 2.9844916913088486e-05],\n",
              " [78, ('VPA', 'TPM'), 2.5905683352538364e-05],\n",
              " [38, ('LTG', 'VPA'), 2.1305706442083122e-05],\n",
              " [169, ('TPM', 'VGB'), 2.0801889957231464e-05],\n",
              " [47, ('LTG', 'TPM'), 1.4012259131008937e-05]]"
            ]
          },
          "metadata": {
            "tags": []
          },
          "execution_count": 9
        }
      ]
    },
    {
      "cell_type": "code",
      "metadata": {
        "id": "9Q3hv7tCNUkW",
        "colab": {
          "base_uri": "https://localhost:8080/",
          "height": 333
        },
        "outputId": "daf9f35a-7c9a-4ac5-d85b-72c0ee0913d6"
      },
      "source": [
        "edge = 47\n",
        "fig = plt.figure()\n",
        "plt.scatter(list(range(1, len(edges_across_time[edge]) + 1)), edges_across_time[edge])\n",
        "fig.suptitle(str(high_variance_edges[edge][1]), fontsize = 20)\n",
        "plt.xlabel('Age', fontsize = 18)\n",
        "plt.ylabel('Normalized Co-prescription', fontsize = 16)"
      ],
      "execution_count": 22,
      "outputs": [
        {
          "output_type": "execute_result",
          "data": {
            "text/plain": [
              "Text(0, 0.5, 'Normalized Co-prescription')"
            ]
          },
          "metadata": {
            "tags": []
          },
          "execution_count": 22
        },
        {
          "output_type": "display_data",
          "data": {
            "image/png": "[encoded data removed]",
            "text/plain": [
              "<Figure size 432x288 with 1 Axes>"
            ]
          },
          "metadata": {
            "tags": [],
            "needs_background": "light"
          }
        }
      ]
    },
    {
      "cell_type": "code",
      "metadata": {
        "colab": {
          "base_uri": "https://localhost:8080/",
          "height": 333
        },
        "id": "EBkHzhOwRJDe",
        "outputId": "e6fdcced-1b60-42e7-cc2e-15ca929bb0b1"
      },
      "source": [
        "edge = 1\n",
        "fig = plt.figure()\n",
        "plt.scatter(list(range(1, len(edges_across_time[edge]) + 1)), edges_across_time[edge])\n",
        "fig.suptitle(str(high_variance_edges[edge][1]), fontsize = 20)\n",
        "plt.xlabel('Age', fontsize = 18)\n",
        "plt.ylabel('Normalized Co-prescription', fontsize = 16)"
      ],
      "execution_count": 11,
      "outputs": [
        {
          "output_type": "execute_result",
          "data": {
            "text/plain": [
              "Text(0, 0.5, 'Normalized Co-prescription')"
            ]
          },
          "metadata": {
            "tags": []
          },
          "execution_count": 11
        },
        {
          "output_type": "display_data",
          "data": {
            "image/png": "[encoded data removed]",
            "text/plain": [
              "<Figure size 432x288 with 1 Axes>"
            ]
          },
          "metadata": {
            "tags": [],
            "needs_background": "light"
          }
        }
      ]
    },
    {
      "cell_type": "code",
      "metadata": {
        "colab": {
          "base_uri": "https://localhost:8080/",
          "height": 333
        },
        "id": "sHmD6OBZRKwW",
        "outputId": "0efbfa59-0d9b-42ce-95f3-4f8100240e23"
      },
      "source": [
        "edge = 2\n",
        "fig = plt.figure()\n",
        "plt.scatter(list(range(1, len(edges_across_time[edge]) + 1)), edges_across_time[edge])\n",
        "fig.suptitle(str(high_variance_edges[edge][1]), fontsize = 20)\n",
        "plt.xlabel('Age', fontsize = 18)\n",
        "plt.ylabel('Normalized Co-prescription', fontsize = 16)"
      ],
      "execution_count": 12,
      "outputs": [
        {
          "output_type": "execute_result",
          "data": {
            "text/plain": [
              "Text(0, 0.5, 'Normalized Co-prescription')"
            ]
          },
          "metadata": {
            "tags": []
          },
          "execution_count": 12
        },
        {
          "output_type": "display_data",
          "data": {
            "image/png": "[encoded data removed]",
            "text/plain": [
              "<Figure size 432x288 with 1 Axes>"
            ]
          },
          "metadata": {
            "tags": [],
            "needs_background": "light"
          }
        }
      ]
    }
  ]
}