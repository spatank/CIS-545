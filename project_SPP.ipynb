{
  "nbformat": 4,
  "nbformat_minor": 0,
  "metadata": {
    "colab": {
      "name": "project_SPP.ipynb",
      "provenance": [],
      "include_colab_link": true
    },
    "kernelspec": {
      "name": "python3",
      "display_name": "Python 3"
    }
  },
  "cells": [
    {
      "cell_type": "markdown",
      "metadata": {
        "id": "view-in-github",
        "colab_type": "text"
      },
      "source": [
        "<a href=\"https://colab.research.google.com/github/spatank/CIS-545/blob/master/project_SPP.ipynb\" target=\"_parent\"><img src=\"https://colab.research.google.com/assets/colab-badge.svg\" alt=\"Open In Colab\"/></a>"
      ]
    },
    {
      "cell_type": "markdown",
      "metadata": {
        "id": "2Mn0d2tB-_xY"
      },
      "source": [
        "In this notebook, we analyze drug co-prescription networks. Nodes in these networks represent anti-epileptic drugs, and edges correspond to the frequency with which two drugs are prescribed together. In order to identify changing prescription practices as children grow older, we examine trends in the edge weight values over time. Next, we cluster network nodes into groups based on their co-prescription statistics using a data-driven community detection technique."
      ]
    },
    {
      "cell_type": "markdown",
      "metadata": {
        "id": "gx8rqkd6-gG-"
      },
      "source": [
        "# Imports"
      ]
    },
    {
      "cell_type": "code",
      "metadata": {
        "id": "xF8L1dS5-j9L",
        "outputId": "e901eefb-7c59-484c-b9de-af441282e5de",
        "colab": {
          "base_uri": "https://localhost:8080/"
        }
      },
      "source": [
        "import os\n",
        "from google.colab import drive\n",
        "\n",
        "# mount Google Drive\n",
        "drive.mount('/content/gdrive')\n",
        "os.chdir('gdrive/MyDrive/CIS545_2020/Project')\n",
        "import numpy as np\n",
        "from matplotlib import pyplot as plt\n",
        "from scipy.io import savemat\n",
        "import networkx as nx"
      ],
      "execution_count": 1,
      "outputs": [
        {
          "output_type": "stream",
          "text": [
            "Mounted at /content/gdrive\n"
          ],
          "name": "stdout"
        }
      ]
    },
    {
      "cell_type": "markdown",
      "metadata": {
        "id": "mnPZStWn-sga"
      },
      "source": [
        "The following code block loads in adjacency matrices corresponding to the co-prescription networks. Additionally, abbreviated names of 20 AEDs that comprise the networks are also loaded in."
      ]
    },
    {
      "cell_type": "code",
      "metadata": {
        "id": "NYhqA9KIRxg3",
        "colab": {
          "base_uri": "https://localhost:8080/"
        },
        "outputId": "e13bedb8-9701-40c6-e82d-4e29f1da030f"
      },
      "source": [
        "vars = np.load('AED_matrices.npz', allow_pickle = True)\n",
        "for item in vars.files:\n",
        "  print(item)"
      ],
      "execution_count": 2,
      "outputs": [
        {
          "output_type": "stream",
          "text": [
            "arr_0\n",
            "arr_1\n",
            "arr_2\n"
          ],
          "name": "stdout"
        }
      ]
    },
    {
      "cell_type": "code",
      "metadata": {
        "id": "_5TWPTMzpxLc"
      },
      "source": [
        "total_adj = vars['arr_0'] # sum of all co-prescription counts across time\n",
        "time_var_adj = vars['arr_1']\n",
        "med_names = vars['arr_2']"
      ],
      "execution_count": 3,
      "outputs": []
    },
    {
      "cell_type": "code",
      "metadata": {
        "id": "6KbTX2HEBfHk",
        "outputId": "f4a1150a-2532-4461-dbe7-49085ab5d685",
        "colab": {
          "base_uri": "https://localhost:8080/"
        }
      },
      "source": [
        "time_var_adj.shape[2]"
      ],
      "execution_count": 4,
      "outputs": [
        {
          "output_type": "execute_result",
          "data": {
            "text/plain": [
              "37"
            ]
          },
          "metadata": {
            "tags": []
          },
          "execution_count": 4
        }
      ]
    },
    {
      "cell_type": "code",
      "metadata": {
        "id": "bjAU3Zfg_GNx"
      },
      "source": [
        "def transpose(matrix):\n",
        "    num_lists_in_transpose = len(matrix[0])\n",
        "    transpose_matrix = [] # initialize empty transpose matrix\n",
        "    for i in range(num_lists_in_transpose): \n",
        "        list_for_transpose = [] # begin building each transpose list\n",
        "        for original_list in matrix: \n",
        "            # index the element from the non-tranpose list and place it \n",
        "            # in the tranposed list corresponding to the index\n",
        "            list_for_transpose.append(original_list[i])\n",
        "        transpose_matrix.append(list_for_transpose)\n",
        "    return transpose_matrix"
      ],
      "execution_count": 5,
      "outputs": []
    },
    {
      "cell_type": "markdown",
      "metadata": {
        "id": "iP3Ty3w4NLXH"
      },
      "source": [
        "# Drug Co-prescription over Time"
      ]
    },
    {
      "cell_type": "markdown",
      "metadata": {
        "id": "o5g9FiqYBlPX"
      },
      "source": [
        "Older patients transition away from pediatric neurologists. As a result, we follow Helbig Lab convention and limit our analyses to 25 years. Since we intend to examine trends based on data drawn from different years, we normalize each adjacency matrix by the sum total of all edge weight values. We then select the upper triangular matrix from each co-prescription network, and flatten the result to get edge weight values for the 190 unique drug pairs. Following this procedure for 25 networks yields the evolution of edge weight values over time. "
      ]
    },
    {
      "cell_type": "code",
      "metadata": {
        "id": "GGgG8l8L4Yg9"
      },
      "source": [
        "years = 25 \n",
        "upper_tri_indices = np.triu_indices(20, k = 1)\n",
        "edges_across_time = []\n",
        "for idx in range(years):\n",
        "  curr_adj_mat = time_var_adj[:, :, idx]\n",
        "  if np.sum(curr_adj_mat) != 0:\n",
        "    curr_adj_mat = curr_adj_mat/np.sum(curr_adj_mat) # normalize\n",
        "  edges_across_time.append(curr_adj_mat[upper_tri_indices])\n",
        "edges_across_time = transpose(edges_across_time)"
      ],
      "execution_count": 11,
      "outputs": []
    },
    {
      "cell_type": "code",
      "metadata": {
        "id": "Z_0TZE-wGsSS"
      },
      "source": [
        "all_variances = [np.nanvar(lst) for lst in edges_across_time]\n",
        "ranked = np.argsort(all_variances)\n",
        "high_variance_edge_IDs = ranked[::-1][:len(ranked)]\n",
        "\n",
        "row_indices = upper_tri_indices[0]\n",
        "col_indices = upper_tri_indices[1]\n",
        "all_edges = []\n",
        "for idx in range(len(row_indices)):\n",
        "  all_edges.append(tuple([med_names[row_indices[idx]], med_names[col_indices[idx]]]))\n",
        "\n",
        "high_variance_edges = []\n",
        "for edge_ID in high_variance_edge_IDs:\n",
        "  high_variance_edges.append([edge_ID, all_edges[edge_ID], all_variances[edge_ID]])"
      ],
      "execution_count": 12,
      "outputs": []
    },
    {
      "cell_type": "code",
      "metadata": {
        "colab": {
          "base_uri": "https://localhost:8080/"
        },
        "id": "3aLgLhADH3FX",
        "outputId": "4c0ba427-faaa-4eb8-b79d-f6d04ce827f4"
      },
      "source": [
        "high_variance_edges"
      ],
      "execution_count": 29,
      "outputs": [
        {
          "output_type": "execute_result",
          "data": {
            "text/plain": [
              "[[2, ('LEV', 'PHB'), 0.00011584857203832703],\n",
              " [12, ('LEV', 'TPM'), 7.686320012419152e-05],\n",
              " [1, ('LEV', 'LTG'), 6.751595922585103e-05],\n",
              " [63, ('PHB', 'TPM'), 5.5732623198214246e-05],\n",
              " [0, ('LEV', 'OXC'), 4.767338450037525e-05],\n",
              " [3, ('LEV', 'VPA'), 4.5726899144843726e-05],\n",
              " [78, ('VPA', 'TPM'), 3.0179428189607466e-05],\n",
              " [38, ('LTG', 'VPA'), 2.7571831400267273e-05],\n",
              " [169, ('TPM', 'VGB'), 2.0322282983271022e-05],\n",
              " [47, ('LTG', 'TPM'), 1.7917061261640534e-05],\n",
              " [43, ('LTG', 'ZNS'), 1.1453012776232553e-05],\n",
              " [20, ('OXC', 'PHB'), 1.0808032842566752e-05],\n",
              " [58, ('PHB', 'FOS'), 9.379923992992795e-06],\n",
              " [8, ('LEV', 'ZNS'), 9.051335780134165e-06],\n",
              " [19, ('OXC', 'LTG'), 8.760806531786743e-06],\n",
              " [10, ('LEV', 'LCM'), 8.748270809729864e-06],\n",
              " [6, ('LEV', 'PHT'), 8.043461604788047e-06],\n",
              " [74, ('VPA', 'ZNS'), 8.041583431138874e-06],\n",
              " [57, ('PHB', 'PHT'), 7.947552461322726e-06],\n",
              " [30, ('OXC', 'TPM'), 7.803206383893985e-06],\n",
              " [13, ('LEV', 'VGB'), 7.66654203722539e-06],\n",
              " [7, ('LEV', 'FOS'), 6.848868943524994e-06],\n",
              " [76, ('VPA', 'LCM'), 6.45937289128873e-06],\n",
              " [21, ('OXC', 'VPA'), 6.292608067809669e-06],\n",
              " [70, ('VPA', 'ETX'), 6.059560000128509e-06],\n",
              " [39, ('LTG', 'ETX'), 5.055874205387063e-06],\n",
              " [45, ('LTG', 'LCM'), 4.728208585204335e-06],\n",
              " [14, ('LEV', 'GPT'), 4.2786309024489025e-06],\n",
              " [26, ('OXC', 'ZNS'), 3.7796720841765305e-06],\n",
              " [117, ('PHT', 'TPM'), 2.8511817280640456e-06],\n",
              " [54, ('PHB', 'VPA'), 2.8425041088731753e-06],\n",
              " [64, ('PHB', 'VGB'), 2.645839975281643e-06],\n",
              " [112, ('PHT', 'FOS'), 2.4977696024913643e-06],\n",
              " [136, ('ZNS', 'LCM'), 2.4565597597680193e-06],\n",
              " [79, ('VPA', 'VGB'), 2.337397480240252e-06],\n",
              " [49, ('LTG', 'GPT'), 2.300520135736341e-06],\n",
              " [28, ('OXC', 'LCM'), 2.2669944409910953e-06],\n",
              " [128, ('FOS', 'TPM'), 2.0773374731451098e-06],\n",
              " [51, ('LTG', 'FELB'), 1.9151541726460846e-06],\n",
              " [24, ('OXC', 'PHT'), 1.5873749016474548e-06],\n",
              " [80, ('VPA', 'GPT'), 1.3234333396428466e-06],\n",
              " [65, ('PHB', 'GPT'), 1.2693152036917928e-06],\n",
              " [126, ('FOS', 'LCM'), 1.215770873640214e-06],\n",
              " [72, ('VPA', 'PHT'), 1.1704397891583465e-06],\n",
              " [155, ('LCM', 'TPM'), 1.1519346412024878e-06],\n",
              " [42, ('LTG', 'FOS'), 1.041442379892765e-06],\n",
              " [73, ('VPA', 'FOS'), 9.56059072549555e-07],\n",
              " [138, ('ZNS', 'TPM'), 9.385355960036157e-07],\n",
              " [4, ('LEV', 'ETX'), 9.221805521440757e-07],\n",
              " [15, ('LEV', 'CBZ'), 9.009133317130632e-07],\n",
              " [170, ('TPM', 'GPT'), 7.979341533093387e-07],\n",
              " [103, ('BRI', 'LCM'), 7.894621057444842e-07],\n",
              " [31, ('OXC', 'VGB'), 7.868068690342771e-07],\n",
              " [25, ('OXC', 'FOS'), 7.558072545550785e-07],\n",
              " [71, ('VPA', 'BRI'), 6.916939948136021e-07],\n",
              " [59, ('PHB', 'ZNS'), 6.781730768255167e-07],\n",
              " [44, ('LTG', 'ACZ'), 6.720415005201919e-07],\n",
              " [115, ('PHT', 'LCM'), 6.402727281835942e-07],\n",
              " [48, ('LTG', 'VGB'), 5.791222026248911e-07],\n",
              " [61, ('PHB', 'LCM'), 5.322466477616215e-07],\n",
              " [82, ('VPA', 'FELB'), 5.121866870231285e-07],\n",
              " [171, ('TPM', 'CBZ'), 4.924842770417388e-07],\n",
              " [40, ('LTG', 'BRI'), 4.8174453197342e-07],\n",
              " [140, ('ZNS', 'GPT'), 4.785057418069323e-07],\n",
              " [33, ('OXC', 'CBZ'), 4.7002725653138906e-07],\n",
              " [32, ('OXC', 'GPT'), 4.6013625267647243e-07],\n",
              " [37, ('LTG', 'PHB'), 4.524532358047066e-07],\n",
              " [41, ('LTG', 'PHT'), 4.4758331791020244e-07],\n",
              " [132, ('FOS', 'FELB'), 4.4517558054014256e-07],\n",
              " [174, ('TPM', 'PRM'), 4.3172606770039147e-07],\n",
              " [81, ('VPA', 'CBZ'), 4.2875510995926256e-07],\n",
              " [139, ('ZNS', 'VGB'), 3.9809812249195866e-07],\n",
              " [113, ('PHT', 'ZNS'), 3.800818993254357e-07],\n",
              " [5, ('LEV', 'BRI'), 3.343288172367586e-07],\n",
              " [145, ('ACZ', 'LCM'), 3.3225334830908306e-07],\n",
              " [157, ('LCM', 'GPT'), 3.309629530701991e-07],\n",
              " [50, ('LTG', 'CBZ'), 3.2933081013668176e-07],\n",
              " [16, ('LEV', 'FELB'), 3.2529413839208986e-07],\n",
              " [118, ('PHT', 'VGB'), 3.2220002093777874e-07],\n",
              " [149, ('ACZ', 'GPT'), 2.867039128142491e-07],\n",
              " [101, ('BRI', 'ZNS'), 2.8173692938198916e-07],\n",
              " [124, ('FOS', 'ZNS'), 2.728396048950778e-07],\n",
              " [77, ('VPA', 'PER'), 2.6798180186411555e-07],\n",
              " [75, ('VPA', 'ACZ'), 2.573323974940856e-07],\n",
              " [147, ('ACZ', 'TPM'), 2.553415356048188e-07],\n",
              " [88, ('ETX', 'ZNS'), 2.4368428644052337e-07],\n",
              " [66, ('PHB', 'CBZ'), 2.425209823946268e-07],\n",
              " [130, ('FOS', 'GPT'), 2.39459984328075e-07],\n",
              " [129, ('FOS', 'VGB'), 2.3710149202462741e-07],\n",
              " [137, ('ZNS', 'PER'), 2.3413803528785416e-07],\n",
              " [156, ('LCM', 'VGB'), 2.2443200989042736e-07],\n",
              " [11, ('LEV', 'PER'), 2.213729233350859e-07],\n",
              " [23, ('OXC', 'BRI'), 2.1740117021832384e-07],\n",
              " [9, ('LEV', 'ACZ'), 2.1088839339811263e-07],\n",
              " [159, ('LCM', 'FELB'), 2.0374947838001426e-07],\n",
              " [46, ('LTG', 'PER'), 2.015419168224056e-07],\n",
              " [104, ('BRI', 'PER'), 1.95328362709899e-07],\n",
              " [92, ('ETX', 'TPM'), 1.929260834873529e-07],\n",
              " [153, ('ACZ', 'PRM'), 1.8179769714645815e-07],\n",
              " [141, ('ZNS', 'CBZ'), 1.811198834770588e-07],\n",
              " [161, ('LCM', 'PRM'), 1.7850838000498942e-07],\n",
              " [172, ('TPM', 'FELB'), 1.7626733989726463e-07],\n",
              " [166, ('PER', 'FELB'), 1.6938660774115543e-07],\n",
              " [154, ('LCM', 'PER'), 1.6756506189905333e-07],\n",
              " [100, ('BRI', 'FOS'), 1.5565975179440597e-07],\n",
              " [67, ('PHB', 'FELB'), 1.5058728795234885e-07],\n",
              " [135, ('ZNS', 'ACZ'), 1.4910165527718298e-07],\n",
              " [131, ('FOS', 'CBZ'), 1.2406298825127262e-07],\n",
              " [99, ('BRI', 'PHT'), 1.194926488761879e-07],\n",
              " [180, ('GPT', 'CBZ'), 1.1945035348374407e-07],\n",
              " [56, ('PHB', 'BRI'), 1.1683789967394693e-07],\n",
              " [27, ('OXC', 'ACZ'), 1.1603811983080528e-07],\n",
              " [119, ('PHT', 'GPT'), 1.1220025557643068e-07],\n",
              " [142, ('ZNS', 'FELB'), 1.1185819598847146e-07],\n",
              " [69, ('PHB', 'PRM'), 9.55831279832063e-08],\n",
              " [186, ('CBZ', 'PRM'), 9.312801460246185e-08],\n",
              " [83, ('VPA', 'MSM'), 8.59203628704128e-08],\n",
              " [163, ('PER', 'VGB'), 7.258832046507655e-08],\n",
              " [105, ('BRI', 'TPM'), 7.164311968490958e-08],\n",
              " [18, ('LEV', 'PRM'), 6.761968561183543e-08],\n",
              " [127, ('FOS', 'PER'), 6.463389272187119e-08],\n",
              " [162, ('PER', 'TPM'), 6.180225999430515e-08],\n",
              " [109, ('BRI', 'FELB'), 6.046666542961746e-08],\n",
              " [60, ('PHB', 'ACZ'), 5.490290240726471e-08],\n",
              " [107, ('BRI', 'GPT'), 5.3305204455350915e-08],\n",
              " [120, ('PHT', 'CBZ'), 5.307191223655401e-08],\n",
              " [125, ('FOS', 'ACZ'), 5.201375013099597e-08],\n",
              " [34, ('OXC', 'FELB'), 4.864630025181244e-08],\n",
              " [177, ('VGB', 'FELB'), 3.968825268564232e-08],\n",
              " [116, ('PHT', 'PER'), 3.8479474820728216e-08],\n",
              " [121, ('PHT', 'FELB'), 3.6129566311771295e-08],\n",
              " [62, ('PHB', 'PER'), 3.523334773307009e-08],\n",
              " [158, ('LCM', 'CBZ'), 3.316846032156348e-08],\n",
              " [110, ('BRI', 'MSM'), 2.936695288611568e-08],\n",
              " [150, ('ACZ', 'CBZ'), 2.7860892883573382e-08],\n",
              " [94, ('ETX', 'GPT'), 2.6547516446922527e-08],\n",
              " [84, ('VPA', 'PRM'), 2.610343097598028e-08],\n",
              " [151, ('ACZ', 'FELB'), 2.549852639182569e-08],\n",
              " [181, ('GPT', 'FELB'), 2.485743097694016e-08],\n",
              " [106, ('BRI', 'VGB'), 2.102066893003792e-08],\n",
              " [114, ('PHT', 'ACZ'), 2.0441357066640898e-08],\n",
              " [173, ('TPM', 'MSM'), 1.8084454698941787e-08],\n",
              " [17, ('LEV', 'MSM'), 1.696483791237126e-08],\n",
              " [29, ('OXC', 'PER'), 1.681553090026905e-08],\n",
              " [175, ('VGB', 'GPT'), 1.5613688620292686e-08],\n",
              " [90, ('ETX', 'LCM'), 1.5613688620292686e-08],\n",
              " [85, ('ETX', 'BRI'), 1.544003935545857e-08],\n",
              " [148, ('ACZ', 'VGB'), 1.5018767592784886e-08],\n",
              " [167, ('PER', 'MSM'), 1.4790255258509963e-08],\n",
              " [89, ('ETX', 'ACZ'), 1.4165472087925717e-08],\n",
              " [146, ('ACZ', 'PER'), 1.3714067575120291e-08],\n",
              " [91, ('ETX', 'PER'), 1.3225007817322411e-08],\n",
              " [108, ('BRI', 'CBZ'), 1.2453235506249971e-08],\n",
              " [176, ('VGB', 'CBZ'), 1.232085404444847e-08],\n",
              " [22, ('OXC', 'ETX'), 1.0959051123503985e-08],\n",
              " [123, ('PHT', 'PRM'), 9.953327173105356e-09],\n",
              " [143, ('ZNS', 'MSM'), 9.338392134119758e-09],\n",
              " [52, ('LTG', 'MSM'), 7.730290872478987e-09],\n",
              " [93, ('ETX', 'VGB'), 7.49828798854324e-09],\n",
              " [55, ('PHB', 'ETX'), 7.439086472802717e-09],\n",
              " [87, ('ETX', 'FOS'), 7.245116982802546e-09],\n",
              " [152, ('ACZ', 'MSM'), 7.212470734463359e-09],\n",
              " [187, ('FELB', 'MSM'), 7.191434120958358e-09],\n",
              " [164, ('PER', 'GPT'), 6.569916533512355e-09],\n",
              " [160, ('LCM', 'MSM'), 4.193661542682082e-09],\n",
              " [68, ('PHB', 'MSM'), 4.193661542682082e-09],\n",
              " [133, ('FOS', 'MSM'), 4.193661542682082e-09],\n",
              " [122, ('PHT', 'MSM'), 4.193661542682082e-09],\n",
              " [184, ('CBZ', 'FELB'), 4.193661542682082e-09],\n",
              " [86, ('ETX', 'PHT'), 3.912104387170376e-09],\n",
              " [97, ('ETX', 'MSM'), 3.872450750040262e-09],\n",
              " [102, ('BRI', 'ACZ'), 3.872450750040262e-09],\n",
              " [96, ('ETX', 'FELB'), 3.0028677386904485e-09],\n",
              " [178, ('VGB', 'MSM'), 0.0],\n",
              " [182, ('GPT', 'MSM'), 0.0],\n",
              " [179, ('VGB', 'PRM'), 0.0],\n",
              " [185, ('CBZ', 'MSM'), 0.0],\n",
              " [183, ('GPT', 'PRM'), 0.0],\n",
              " [53, ('LTG', 'PRM'), 0.0],\n",
              " [168, ('PER', 'PRM'), 0.0],\n",
              " [165, ('PER', 'CBZ'), 0.0],\n",
              " [144, ('ZNS', 'PRM'), 0.0],\n",
              " [134, ('FOS', 'PRM'), 0.0],\n",
              " [111, ('BRI', 'PRM'), 0.0],\n",
              " [35, ('OXC', 'MSM'), 0.0],\n",
              " [36, ('OXC', 'PRM'), 0.0],\n",
              " [98, ('ETX', 'PRM'), 0.0],\n",
              " [95, ('ETX', 'CBZ'), 0.0],\n",
              " [188, ('FELB', 'PRM'), 0.0],\n",
              " [189, ('MSM', 'PRM'), 0.0]]"
            ]
          },
          "metadata": {
            "tags": []
          },
          "execution_count": 29
        }
      ]
    },
    {
      "cell_type": "code",
      "metadata": {
        "id": "wiMc-iSwMJrH"
      },
      "source": [
        "# 1, 38, 47 rises\n",
        "# 5 not prescribed to infants but then rises\n",
        "# 12, 63 decreases\n",
        "# 0, 3, 78 rise then fall\n",
        "# 169 high and then very low"
      ],
      "execution_count": null,
      "outputs": []
    },
    {
      "cell_type": "markdown",
      "metadata": {
        "id": "NY1P0r5INob-"
      },
      "source": [
        "Next, we show example plots of co-prescription as a function of time for select pairs of AEDs."
      ]
    },
    {
      "cell_type": "code",
      "metadata": {
        "id": "9Q3hv7tCNUkW",
        "colab": {
          "base_uri": "https://localhost:8080/",
          "height": 334
        },
        "outputId": "cf678831-8b61-4ed2-83d9-e862604b7e10"
      },
      "source": [
        "edge = 2\n",
        "fig = plt.figure()\n",
        "plt.scatter(list(range(len(edges_across_time[edge]))), edges_across_time[edge])\n",
        "fig.suptitle(str(all_edges[edge]), fontsize = 20)\n",
        "plt.xlabel('Year', fontsize = 18)\n",
        "plt.ylabel('Normalized Co-prescription', fontsize = 16)"
      ],
      "execution_count": 27,
      "outputs": [
        {
          "output_type": "execute_result",
          "data": {
            "text/plain": [
              "Text(0, 0.5, 'Normalized Co-prescription')"
            ]
          },
          "metadata": {
            "tags": []
          },
          "execution_count": 27
        },
        {
          "output_type": "display_data",
          "data": {
            "image/png": "[encoded data removed]",
            "text/plain": [
              "<Figure size 432x288 with 1 Axes>"
            ]
          },
          "metadata": {
            "tags": [],
            "needs_background": "light"
          }
        }
      ]
    },
    {
      "cell_type": "markdown",
      "metadata": {
        "id": "M5Wozig1OW3g"
      },
      "source": [
        "LEV and PHB co-prescription decreases by year. PHB is usually prescribed to babies, and has lots of side-effects. Patients are often transferred over to LEV."
      ]
    },
    {
      "cell_type": "code",
      "metadata": {
        "colab": {
          "base_uri": "https://localhost:8080/",
          "height": 334
        },
        "id": "EBkHzhOwRJDe",
        "outputId": "30629090-007e-436f-d392-a5a9e7a47d01"
      },
      "source": [
        "edge = 1\n",
        "fig = plt.figure()\n",
        "plt.scatter(list(range(len(edges_across_time[edge]))), edges_across_time[edge])\n",
        "fig.suptitle(str(all_edges[edge]), fontsize = 20)\n",
        "plt.xlabel('Year', fontsize = 18)\n",
        "plt.ylabel('Normalized Co-prescription', fontsize = 16)"
      ],
      "execution_count": 28,
      "outputs": [
        {
          "output_type": "execute_result",
          "data": {
            "text/plain": [
              "Text(0, 0.5, 'Normalized Co-prescription')"
            ]
          },
          "metadata": {
            "tags": []
          },
          "execution_count": 28
        },
        {
          "output_type": "display_data",
          "data": {
            "image/png": "[encoded data removed]",
            "text/plain": [
              "<Figure size 432x288 with 1 Axes>"
            ]
          },
          "metadata": {
            "tags": [],
            "needs_background": "light"
          }
        }
      ]
    },
    {
      "cell_type": "markdown",
      "metadata": {
        "id": "8SFXMY2IOdUE"
      },
      "source": [
        "The LEV-LTG combination of drugs has fewer side-effects. Patients tend to stay on this combination if it works well for them."
      ]
    },
    {
      "cell_type": "code",
      "metadata": {
        "id": "-YHw4zp0-fG2",
        "colab": {
          "base_uri": "https://localhost:8080/",
          "height": 334
        },
        "outputId": "2c5b6aee-2a27-44b1-853e-ac329ef96432"
      },
      "source": [
        "edge = 5\n",
        "fig = plt.figure()\n",
        "plt.scatter(list(range(len(edges_across_time[edge]))), edges_across_time[edge])\n",
        "fig.suptitle(str(all_edges[edge]), fontsize = 20)\n",
        "plt.xlabel('Year', fontsize = 18)\n",
        "plt.ylabel('Normalized Co-prescription', fontsize = 16)"
      ],
      "execution_count": 33,
      "outputs": [
        {
          "output_type": "execute_result",
          "data": {
            "text/plain": [
              "Text(0, 0.5, 'Normalized Co-prescription')"
            ]
          },
          "metadata": {
            "tags": []
          },
          "execution_count": 33
        },
        {
          "output_type": "display_data",
          "data": {
            "image/png": "[encoded data removed]",
            "text/plain": [
              "<Figure size 432x288 with 1 Axes>"
            ]
          },
          "metadata": {
            "tags": [],
            "needs_background": "light"
          }
        }
      ]
    },
    {
      "cell_type": "markdown",
      "metadata": {
        "id": "ezfhEki9QFbC"
      },
      "source": [
        "We also find instances where certain combinations of drugs such as LEV-BRI are never prescribed to infants. LEV has adverse behavioral trends such as a tendency to induce rage in patients. Infants are instead prescribed BRI, and then gradually titrated over to LEV."
      ]
    },
    {
      "cell_type": "markdown",
      "metadata": {
        "id": "bv2-xW-_QuO5"
      },
      "source": [
        "# Community Detection\n",
        "\n",
        "In this section, we infer communities of drugs based on their co-prescription counts. We begin by constructing a *total* co-prescription network using all available data. We then fit a network model called the *weighted stochastic block model* (WSBM) to the adjacency matrix corresponding to the co-prescription network. \n",
        "\n",
        "The WSBM is a generative network model that is parameterized by nodal community assignments. Each network node belongs to a community, or block, which determines the strength of its connections to nodes in other blocks.\n",
        "\n",
        "As a result, one of the outcomes of fitting a block model to a network is the community assignments for each node. Details about the WSBM and the inference algorithm are available [elsewhere](https://aaronclauset.github.io/wsbm/). We use a Matlab-based implementation of the inference algorithm.\n",
        "\n",
        "The WSBM requires that the number of blocks ($k$) in the network being modelled be known *a priori*. Since it is a generative model, the quality of a WSBM's fit to data can be evaluated with the likelihood of observing the data with the estimated model. Therefore, we sweep across a range of values for $k$, and choose that value which maximizes the likelihood. "
      ]
    },
    {
      "cell_type": "markdown",
      "metadata": {
        "id": "ZONceYlwWACd"
      },
      "source": [
        "![determine_k.png](data:image/png;base64,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)"
      ]
    },
    {
      "cell_type": "markdown",
      "metadata": {
        "id": "K9dczLfpWZC2"
      },
      "source": [
        "We find that likelihood is maximized when $k = 4$. \n",
        "\n",
        "The resulting partition of the network (represented here as a weighted adjacency matrix) into blocks is shown in the following figure:"
      ]
    },
    {
      "cell_type": "markdown",
      "metadata": {
        "id": "Yxj0EigUWxu7"
      },
      "source": [
        "![communities.png](data:image/png;base64,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)"
      ]
    },
    {
      "cell_type": "markdown",
      "metadata": {
        "id": "zO5mWDVCW0L4"
      },
      "source": [
        "Starting from the top left and moving down along the diagonal to the bottom right, the red lines delineate network blocks or communities. Each network node, or AED in this context, is assigned to a block based on its patterns of co-prescription across the network. \n",
        "\n",
        "The four groups of AEDs identified are:\n",
        "\n",
        "Block 1: [OXC, PHB, PHT, FOS, ZNS, LCM, GPT]\n",
        "\n",
        "Block 2: [MSM, PRM]\n",
        "\n",
        "Block 3: [ETX, BRI, ACZ, PER, VGB, CBZ, FELB]\n",
        "\n",
        "Block 4: [LEV, LTG, VPA, TPM]\n",
        "\n",
        "Experts from the Helbig Lab identified the AEDs in Block 1 as those administered to patients with focal epilepsies, and in Block 4 as those administered to patients with generalized seizures. More interestingly, Block 3 drugs are administered to patients with the Lennox-Gastaut syndrome (LGS), which is a rare form of childhood-onset epilepsy. Block 2 AEDs are perhaps grouped together due to the rarity with which they are prescribed. \n",
        "\n"
      ]
    }
  ]
}